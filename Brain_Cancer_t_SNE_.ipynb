{
  "nbformat": 4,
  "nbformat_minor": 0,
  "metadata": {
    "colab": {
      "provenance": []
    },
    "kernelspec": {
      "name": "python3",
      "display_name": "Python 3"
    },
    "language_info": {
      "name": "python"
    }
  },
  "cells": [
    {
      "cell_type": "markdown",
      "source": [
        "##Introduction\n",
        "\n",
        "###The Brain Cancer Gene Expression - CuMiDa GSE50161 Microarray Experiment dataset is derived from a study that investigates gene expression patterns related to brain cancer. The dataset originates from the Gene Expression Omnibus (GEO) repository and is a part of the CuMiDa (Curated Microarray Database) collection. The experiment focuses on identifying key gene expression differences between normal and cancerous brain tissues using microarray technology.\n",
        "\n",
        "##Dataset Overview:\n",
        "###The GSE50161 dataset contains samples representing different brain cancer subtypes, with each sample characterized by high-dimensional gene expression data. These measurements reflect the activity levels of thousands of genes across various samples. The primary goal is to uncover gene expression patterns that can help in classifying and distinguishing between healthy and cancerous states.\n",
        "\n",
        "##Key Features:\n",
        "* Gene Expression Values: Each column represents the expression level of a specific gene, quantified from microarray experiments.\n",
        "* Sample Labels: The dataset includes labels that identify whether a sample corresponds to a brain cancer subtype or a control (healthy) tissue.\n",
        "* Dimensionality: The dataset is high-dimensional, making it ideal for dimensionality reduction techniques like t-SNE (t-Distributed Stochastic Neighbor Embedding), which helps visualize clusters of similar gene expression profiles.\n",
        "\n",
        "##Research Significance:\n",
        "###Understanding gene expression differences in brain cancer is critical for improving diagnostics, discovering therapeutic targets, and advancing personalized medicine. By applying machine learning and dimensionality reduction techniques, researchers can uncover hidden patterns and gain insights into the molecular mechanisms underlying brain cancer.\n",
        "\n",
        "###This dataset is particularly suited for applications in gene expression analysis, feature selection, classification tasks, and visualization of complex biological data. In this project, we'll explore t-SNE to visualize and interpret the clusters formed by gene expression data, offering a deeper understanding of the relationships between different samples.\n",
        "\n",
        "Source: https://www.kaggle.com/datasets/brunogrisci/brain-cancer-gene-expression-cumida/data"
      ],
      "metadata": {
        "id": "Ks78AaCVFUKe"
      }
    },
    {
      "cell_type": "code",
      "execution_count": 1,
      "metadata": {
        "colab": {
          "base_uri": "https://localhost:8080/"
        },
        "id": "i2ea7FXoBbWz",
        "outputId": "1e995f7e-fcbd-4a61-fa4f-6483960d59c5"
      },
      "outputs": [
        {
          "output_type": "stream",
          "name": "stdout",
          "text": [
            "Collecting bioinfokit\n",
            "  Downloading bioinfokit-2.1.4.tar.gz (88 kB)\n",
            "\u001b[?25l     \u001b[90m━━━━━━━━━━━━━━━━━━━━━━━━━━━━━━━━━━━━━━━━\u001b[0m \u001b[32m0.0/88.1 kB\u001b[0m \u001b[31m?\u001b[0m eta \u001b[36m-:--:--\u001b[0m\r\u001b[2K     \u001b[91m━━━━━━━━━━━━━━━━━━━━━━━━━━━━━━━━━━━━━\u001b[0m\u001b[90m╺\u001b[0m\u001b[90m━━\u001b[0m \u001b[32m81.9/88.1 kB\u001b[0m \u001b[31m3.3 MB/s\u001b[0m eta \u001b[36m0:00:01\u001b[0m\r\u001b[2K     \u001b[90m━━━━━━━━━━━━━━━━━━━━━━━━━━━━━━━━━━━━━━━━\u001b[0m \u001b[32m88.1/88.1 kB\u001b[0m \u001b[31m2.2 MB/s\u001b[0m eta \u001b[36m0:00:00\u001b[0m\n",
            "\u001b[?25h  Preparing metadata (setup.py) ... \u001b[?25l\u001b[?25hdone\n",
            "Requirement already satisfied: pandas in /usr/local/lib/python3.10/dist-packages (from bioinfokit) (2.1.4)\n",
            "Requirement already satisfied: numpy in /usr/local/lib/python3.10/dist-packages (from bioinfokit) (1.26.4)\n",
            "Requirement already satisfied: matplotlib in /usr/local/lib/python3.10/dist-packages (from bioinfokit) (3.7.1)\n",
            "Requirement already satisfied: scipy in /usr/local/lib/python3.10/dist-packages (from bioinfokit) (1.13.1)\n",
            "Requirement already satisfied: scikit-learn in /usr/local/lib/python3.10/dist-packages (from bioinfokit) (1.3.2)\n",
            "Requirement already satisfied: seaborn in /usr/local/lib/python3.10/dist-packages (from bioinfokit) (0.13.1)\n",
            "Requirement already satisfied: matplotlib-venn in /usr/local/lib/python3.10/dist-packages (from bioinfokit) (0.11.10)\n",
            "Requirement already satisfied: tabulate in /usr/local/lib/python3.10/dist-packages (from bioinfokit) (0.9.0)\n",
            "Requirement already satisfied: statsmodels in /usr/local/lib/python3.10/dist-packages (from bioinfokit) (0.14.2)\n",
            "Collecting textwrap3 (from bioinfokit)\n",
            "  Downloading textwrap3-0.9.2-py2.py3-none-any.whl.metadata (4.6 kB)\n",
            "Collecting adjustText (from bioinfokit)\n",
            "  Downloading adjustText-1.2.0-py3-none-any.whl.metadata (3.0 kB)\n",
            "Requirement already satisfied: contourpy>=1.0.1 in /usr/local/lib/python3.10/dist-packages (from matplotlib->bioinfokit) (1.2.1)\n",
            "Requirement already satisfied: cycler>=0.10 in /usr/local/lib/python3.10/dist-packages (from matplotlib->bioinfokit) (0.12.1)\n",
            "Requirement already satisfied: fonttools>=4.22.0 in /usr/local/lib/python3.10/dist-packages (from matplotlib->bioinfokit) (4.53.1)\n",
            "Requirement already satisfied: kiwisolver>=1.0.1 in /usr/local/lib/python3.10/dist-packages (from matplotlib->bioinfokit) (1.4.5)\n",
            "Requirement already satisfied: packaging>=20.0 in /usr/local/lib/python3.10/dist-packages (from matplotlib->bioinfokit) (24.1)\n",
            "Requirement already satisfied: pillow>=6.2.0 in /usr/local/lib/python3.10/dist-packages (from matplotlib->bioinfokit) (9.4.0)\n",
            "Requirement already satisfied: pyparsing>=2.3.1 in /usr/local/lib/python3.10/dist-packages (from matplotlib->bioinfokit) (3.1.2)\n",
            "Requirement already satisfied: python-dateutil>=2.7 in /usr/local/lib/python3.10/dist-packages (from matplotlib->bioinfokit) (2.8.2)\n",
            "Requirement already satisfied: pytz>=2020.1 in /usr/local/lib/python3.10/dist-packages (from pandas->bioinfokit) (2024.1)\n",
            "Requirement already satisfied: tzdata>=2022.1 in /usr/local/lib/python3.10/dist-packages (from pandas->bioinfokit) (2024.1)\n",
            "Requirement already satisfied: joblib>=1.1.1 in /usr/local/lib/python3.10/dist-packages (from scikit-learn->bioinfokit) (1.4.2)\n",
            "Requirement already satisfied: threadpoolctl>=2.0.0 in /usr/local/lib/python3.10/dist-packages (from scikit-learn->bioinfokit) (3.5.0)\n",
            "Requirement already satisfied: patsy>=0.5.6 in /usr/local/lib/python3.10/dist-packages (from statsmodels->bioinfokit) (0.5.6)\n",
            "Requirement already satisfied: six in /usr/local/lib/python3.10/dist-packages (from patsy>=0.5.6->statsmodels->bioinfokit) (1.16.0)\n",
            "Downloading adjustText-1.2.0-py3-none-any.whl (12 kB)\n",
            "Downloading textwrap3-0.9.2-py2.py3-none-any.whl (12 kB)\n",
            "Building wheels for collected packages: bioinfokit\n",
            "  Building wheel for bioinfokit (setup.py) ... \u001b[?25l\u001b[?25hdone\n",
            "  Created wheel for bioinfokit: filename=bioinfokit-2.1.4-py3-none-any.whl size=59220 sha256=8efe089a048e0984f9be00044cca5abd583155761f3d0043e8ea94a96e6d3a2e\n",
            "  Stored in directory: /root/.cache/pip/wheels/45/b1/91/212510cab723ee76a25180836e8897f926820382374184b017\n",
            "Successfully built bioinfokit\n",
            "Installing collected packages: textwrap3, adjustText, bioinfokit\n",
            "Successfully installed adjustText-1.2.0 bioinfokit-2.1.4 textwrap3-0.9.2\n"
          ]
        }
      ],
      "source": [
        "!pip install bioinfokit\n"
      ]
    },
    {
      "cell_type": "markdown",
      "source": [
        "#Importing Necessary Libraries"
      ],
      "metadata": {
        "id": "4jBIHJIUDqXI"
      }
    },
    {
      "cell_type": "code",
      "source": [
        "import pandas as pd # Pandas is a powerful library for data manipulation and analysis.\n",
        "import numpy as np # NumPy is a powerful tool for numerical computations in Python\n",
        "\n",
        "from sklearn.manifold import TSNE #Imports the TSNE class from sklearn.manifold for dimensionality reduction.\n",
        "from bioinfokit.visuz import cluster #The cluster module from bioinfokit.visuz for visualizing clustering results."
      ],
      "metadata": {
        "id": "4xCHRakBDjTo"
      },
      "execution_count": 2,
      "outputs": []
    },
    {
      "cell_type": "markdown",
      "source": [
        "#Loading the Dataset"
      ],
      "metadata": {
        "id": "PoduGSINDtEJ"
      }
    },
    {
      "cell_type": "code",
      "source": [
        "df = pd.read_csv('Brain_GSE50161.csv') #The df = pd.read_csv line reads a CSV file into a DataFrame named df using the pandas library."
      ],
      "metadata": {
        "id": "9Xj2fJxVDnmA"
      },
      "execution_count": 3,
      "outputs": []
    },
    {
      "cell_type": "code",
      "source": [
        "df.head() #We will now read the data from a CSV file into a Pandas DataFrame Let us have a look at how our dataset looks like using df.head()"
      ],
      "metadata": {
        "colab": {
          "base_uri": "https://localhost:8080/",
          "height": 270
        },
        "id": "OD4Rr0cTD27b",
        "outputId": "65daee20-65dc-431b-ece1-b1fb85fe3a6b"
      },
      "execution_count": 4,
      "outputs": [
        {
          "output_type": "execute_result",
          "data": {
            "text/plain": [
              "   samples        type  1007_s_at   1053_at     117_at    121_at  1255_g_at  \\\n",
              "0      834  ependymoma  12.498150  7.604868   6.880934  9.027128   4.176175   \n",
              "1      835  ependymoma  13.067436  7.998090   7.209076  9.723322   4.826126   \n",
              "2      836  ependymoma  13.068179  8.573674   8.647684  9.613002   4.396581   \n",
              "3      837  ependymoma  12.456040  9.098977   6.628784  8.517677   4.154847   \n",
              "4      838  ependymoma  12.699958  8.800721  11.556188  9.166309   4.165891   \n",
              "\n",
              "    1294_at   1316_at   1320_at  ...  AFFX-r2-Ec-bioD-3_at  \\\n",
              "0  7.224920  6.085942  6.835999  ...              9.979005   \n",
              "1  7.539381  6.250962  8.012549  ...             11.924749   \n",
              "2  7.813101  6.007746  7.178156  ...             12.154405   \n",
              "3  8.361843  6.596064  6.347285  ...             11.969072   \n",
              "4  7.923826  6.212754  6.866387  ...             11.411701   \n",
              "\n",
              "   AFFX-r2-Ec-bioD-5_at  AFFX-r2-P1-cre-3_at  AFFX-r2-P1-cre-5_at  \\\n",
              "0              9.926470            12.719785            12.777792   \n",
              "1             11.215930            13.605662            13.401342   \n",
              "2             11.532460            13.764593            13.477800   \n",
              "3             11.288801            13.600828            13.379029   \n",
              "4             11.169317            13.751442            13.803646   \n",
              "\n",
              "   AFFX-ThrX-3_at  AFFX-ThrX-5_at  AFFX-ThrX-M_at  AFFX-TrpnX-3_at  \\\n",
              "0        5.403657        4.870548        4.047380         3.721936   \n",
              "1        5.224555        4.895315        3.786437         3.564481   \n",
              "2        5.303565        5.052184        4.005343         3.595382   \n",
              "3        4.953429        4.708371        3.892318         3.759429   \n",
              "4        4.892677        4.773806        3.796856         3.577544   \n",
              "\n",
              "   AFFX-TrpnX-5_at  AFFX-TrpnX-M_at  \n",
              "0         4.516434         4.749940  \n",
              "1         4.430891         4.491416  \n",
              "2         4.563494         4.668827  \n",
              "3         4.748381         4.521275  \n",
              "4         4.504385         4.541450  \n",
              "\n",
              "[5 rows x 54677 columns]"
            ],
            "text/html": [
              "\n",
              "  <div id=\"df-16761cf6-626e-404f-84b1-f75fa9f505e9\" class=\"colab-df-container\">\n",
              "    <div>\n",
              "<style scoped>\n",
              "    .dataframe tbody tr th:only-of-type {\n",
              "        vertical-align: middle;\n",
              "    }\n",
              "\n",
              "    .dataframe tbody tr th {\n",
              "        vertical-align: top;\n",
              "    }\n",
              "\n",
              "    .dataframe thead th {\n",
              "        text-align: right;\n",
              "    }\n",
              "</style>\n",
              "<table border=\"1\" class=\"dataframe\">\n",
              "  <thead>\n",
              "    <tr style=\"text-align: right;\">\n",
              "      <th></th>\n",
              "      <th>samples</th>\n",
              "      <th>type</th>\n",
              "      <th>1007_s_at</th>\n",
              "      <th>1053_at</th>\n",
              "      <th>117_at</th>\n",
              "      <th>121_at</th>\n",
              "      <th>1255_g_at</th>\n",
              "      <th>1294_at</th>\n",
              "      <th>1316_at</th>\n",
              "      <th>1320_at</th>\n",
              "      <th>...</th>\n",
              "      <th>AFFX-r2-Ec-bioD-3_at</th>\n",
              "      <th>AFFX-r2-Ec-bioD-5_at</th>\n",
              "      <th>AFFX-r2-P1-cre-3_at</th>\n",
              "      <th>AFFX-r2-P1-cre-5_at</th>\n",
              "      <th>AFFX-ThrX-3_at</th>\n",
              "      <th>AFFX-ThrX-5_at</th>\n",
              "      <th>AFFX-ThrX-M_at</th>\n",
              "      <th>AFFX-TrpnX-3_at</th>\n",
              "      <th>AFFX-TrpnX-5_at</th>\n",
              "      <th>AFFX-TrpnX-M_at</th>\n",
              "    </tr>\n",
              "  </thead>\n",
              "  <tbody>\n",
              "    <tr>\n",
              "      <th>0</th>\n",
              "      <td>834</td>\n",
              "      <td>ependymoma</td>\n",
              "      <td>12.498150</td>\n",
              "      <td>7.604868</td>\n",
              "      <td>6.880934</td>\n",
              "      <td>9.027128</td>\n",
              "      <td>4.176175</td>\n",
              "      <td>7.224920</td>\n",
              "      <td>6.085942</td>\n",
              "      <td>6.835999</td>\n",
              "      <td>...</td>\n",
              "      <td>9.979005</td>\n",
              "      <td>9.926470</td>\n",
              "      <td>12.719785</td>\n",
              "      <td>12.777792</td>\n",
              "      <td>5.403657</td>\n",
              "      <td>4.870548</td>\n",
              "      <td>4.047380</td>\n",
              "      <td>3.721936</td>\n",
              "      <td>4.516434</td>\n",
              "      <td>4.749940</td>\n",
              "    </tr>\n",
              "    <tr>\n",
              "      <th>1</th>\n",
              "      <td>835</td>\n",
              "      <td>ependymoma</td>\n",
              "      <td>13.067436</td>\n",
              "      <td>7.998090</td>\n",
              "      <td>7.209076</td>\n",
              "      <td>9.723322</td>\n",
              "      <td>4.826126</td>\n",
              "      <td>7.539381</td>\n",
              "      <td>6.250962</td>\n",
              "      <td>8.012549</td>\n",
              "      <td>...</td>\n",
              "      <td>11.924749</td>\n",
              "      <td>11.215930</td>\n",
              "      <td>13.605662</td>\n",
              "      <td>13.401342</td>\n",
              "      <td>5.224555</td>\n",
              "      <td>4.895315</td>\n",
              "      <td>3.786437</td>\n",
              "      <td>3.564481</td>\n",
              "      <td>4.430891</td>\n",
              "      <td>4.491416</td>\n",
              "    </tr>\n",
              "    <tr>\n",
              "      <th>2</th>\n",
              "      <td>836</td>\n",
              "      <td>ependymoma</td>\n",
              "      <td>13.068179</td>\n",
              "      <td>8.573674</td>\n",
              "      <td>8.647684</td>\n",
              "      <td>9.613002</td>\n",
              "      <td>4.396581</td>\n",
              "      <td>7.813101</td>\n",
              "      <td>6.007746</td>\n",
              "      <td>7.178156</td>\n",
              "      <td>...</td>\n",
              "      <td>12.154405</td>\n",
              "      <td>11.532460</td>\n",
              "      <td>13.764593</td>\n",
              "      <td>13.477800</td>\n",
              "      <td>5.303565</td>\n",
              "      <td>5.052184</td>\n",
              "      <td>4.005343</td>\n",
              "      <td>3.595382</td>\n",
              "      <td>4.563494</td>\n",
              "      <td>4.668827</td>\n",
              "    </tr>\n",
              "    <tr>\n",
              "      <th>3</th>\n",
              "      <td>837</td>\n",
              "      <td>ependymoma</td>\n",
              "      <td>12.456040</td>\n",
              "      <td>9.098977</td>\n",
              "      <td>6.628784</td>\n",
              "      <td>8.517677</td>\n",
              "      <td>4.154847</td>\n",
              "      <td>8.361843</td>\n",
              "      <td>6.596064</td>\n",
              "      <td>6.347285</td>\n",
              "      <td>...</td>\n",
              "      <td>11.969072</td>\n",
              "      <td>11.288801</td>\n",
              "      <td>13.600828</td>\n",
              "      <td>13.379029</td>\n",
              "      <td>4.953429</td>\n",
              "      <td>4.708371</td>\n",
              "      <td>3.892318</td>\n",
              "      <td>3.759429</td>\n",
              "      <td>4.748381</td>\n",
              "      <td>4.521275</td>\n",
              "    </tr>\n",
              "    <tr>\n",
              "      <th>4</th>\n",
              "      <td>838</td>\n",
              "      <td>ependymoma</td>\n",
              "      <td>12.699958</td>\n",
              "      <td>8.800721</td>\n",
              "      <td>11.556188</td>\n",
              "      <td>9.166309</td>\n",
              "      <td>4.165891</td>\n",
              "      <td>7.923826</td>\n",
              "      <td>6.212754</td>\n",
              "      <td>6.866387</td>\n",
              "      <td>...</td>\n",
              "      <td>11.411701</td>\n",
              "      <td>11.169317</td>\n",
              "      <td>13.751442</td>\n",
              "      <td>13.803646</td>\n",
              "      <td>4.892677</td>\n",
              "      <td>4.773806</td>\n",
              "      <td>3.796856</td>\n",
              "      <td>3.577544</td>\n",
              "      <td>4.504385</td>\n",
              "      <td>4.541450</td>\n",
              "    </tr>\n",
              "  </tbody>\n",
              "</table>\n",
              "<p>5 rows × 54677 columns</p>\n",
              "</div>\n",
              "    <div class=\"colab-df-buttons\">\n",
              "\n",
              "  <div class=\"colab-df-container\">\n",
              "    <button class=\"colab-df-convert\" onclick=\"convertToInteractive('df-16761cf6-626e-404f-84b1-f75fa9f505e9')\"\n",
              "            title=\"Convert this dataframe to an interactive table.\"\n",
              "            style=\"display:none;\">\n",
              "\n",
              "  <svg xmlns=\"http://www.w3.org/2000/svg\" height=\"24px\" viewBox=\"0 -960 960 960\">\n",
              "    <path d=\"M120-120v-720h720v720H120Zm60-500h600v-160H180v160Zm220 220h160v-160H400v160Zm0 220h160v-160H400v160ZM180-400h160v-160H180v160Zm440 0h160v-160H620v160ZM180-180h160v-160H180v160Zm440 0h160v-160H620v160Z\"/>\n",
              "  </svg>\n",
              "    </button>\n",
              "\n",
              "  <style>\n",
              "    .colab-df-container {\n",
              "      display:flex;\n",
              "      gap: 12px;\n",
              "    }\n",
              "\n",
              "    .colab-df-convert {\n",
              "      background-color: #E8F0FE;\n",
              "      border: none;\n",
              "      border-radius: 50%;\n",
              "      cursor: pointer;\n",
              "      display: none;\n",
              "      fill: #1967D2;\n",
              "      height: 32px;\n",
              "      padding: 0 0 0 0;\n",
              "      width: 32px;\n",
              "    }\n",
              "\n",
              "    .colab-df-convert:hover {\n",
              "      background-color: #E2EBFA;\n",
              "      box-shadow: 0px 1px 2px rgba(60, 64, 67, 0.3), 0px 1px 3px 1px rgba(60, 64, 67, 0.15);\n",
              "      fill: #174EA6;\n",
              "    }\n",
              "\n",
              "    .colab-df-buttons div {\n",
              "      margin-bottom: 4px;\n",
              "    }\n",
              "\n",
              "    [theme=dark] .colab-df-convert {\n",
              "      background-color: #3B4455;\n",
              "      fill: #D2E3FC;\n",
              "    }\n",
              "\n",
              "    [theme=dark] .colab-df-convert:hover {\n",
              "      background-color: #434B5C;\n",
              "      box-shadow: 0px 1px 3px 1px rgba(0, 0, 0, 0.15);\n",
              "      filter: drop-shadow(0px 1px 2px rgba(0, 0, 0, 0.3));\n",
              "      fill: #FFFFFF;\n",
              "    }\n",
              "  </style>\n",
              "\n",
              "    <script>\n",
              "      const buttonEl =\n",
              "        document.querySelector('#df-16761cf6-626e-404f-84b1-f75fa9f505e9 button.colab-df-convert');\n",
              "      buttonEl.style.display =\n",
              "        google.colab.kernel.accessAllowed ? 'block' : 'none';\n",
              "\n",
              "      async function convertToInteractive(key) {\n",
              "        const element = document.querySelector('#df-16761cf6-626e-404f-84b1-f75fa9f505e9');\n",
              "        const dataTable =\n",
              "          await google.colab.kernel.invokeFunction('convertToInteractive',\n",
              "                                                    [key], {});\n",
              "        if (!dataTable) return;\n",
              "\n",
              "        const docLinkHtml = 'Like what you see? Visit the ' +\n",
              "          '<a target=\"_blank\" href=https://colab.research.google.com/notebooks/data_table.ipynb>data table notebook</a>'\n",
              "          + ' to learn more about interactive tables.';\n",
              "        element.innerHTML = '';\n",
              "        dataTable['output_type'] = 'display_data';\n",
              "        await google.colab.output.renderOutput(dataTable, element);\n",
              "        const docLink = document.createElement('div');\n",
              "        docLink.innerHTML = docLinkHtml;\n",
              "        element.appendChild(docLink);\n",
              "      }\n",
              "    </script>\n",
              "  </div>\n",
              "\n",
              "\n",
              "<div id=\"df-2e8bcd4a-f648-4568-bc24-63e99987a0f0\">\n",
              "  <button class=\"colab-df-quickchart\" onclick=\"quickchart('df-2e8bcd4a-f648-4568-bc24-63e99987a0f0')\"\n",
              "            title=\"Suggest charts\"\n",
              "            style=\"display:none;\">\n",
              "\n",
              "<svg xmlns=\"http://www.w3.org/2000/svg\" height=\"24px\"viewBox=\"0 0 24 24\"\n",
              "     width=\"24px\">\n",
              "    <g>\n",
              "        <path d=\"M19 3H5c-1.1 0-2 .9-2 2v14c0 1.1.9 2 2 2h14c1.1 0 2-.9 2-2V5c0-1.1-.9-2-2-2zM9 17H7v-7h2v7zm4 0h-2V7h2v10zm4 0h-2v-4h2v4z\"/>\n",
              "    </g>\n",
              "</svg>\n",
              "  </button>\n",
              "\n",
              "<style>\n",
              "  .colab-df-quickchart {\n",
              "      --bg-color: #E8F0FE;\n",
              "      --fill-color: #1967D2;\n",
              "      --hover-bg-color: #E2EBFA;\n",
              "      --hover-fill-color: #174EA6;\n",
              "      --disabled-fill-color: #AAA;\n",
              "      --disabled-bg-color: #DDD;\n",
              "  }\n",
              "\n",
              "  [theme=dark] .colab-df-quickchart {\n",
              "      --bg-color: #3B4455;\n",
              "      --fill-color: #D2E3FC;\n",
              "      --hover-bg-color: #434B5C;\n",
              "      --hover-fill-color: #FFFFFF;\n",
              "      --disabled-bg-color: #3B4455;\n",
              "      --disabled-fill-color: #666;\n",
              "  }\n",
              "\n",
              "  .colab-df-quickchart {\n",
              "    background-color: var(--bg-color);\n",
              "    border: none;\n",
              "    border-radius: 50%;\n",
              "    cursor: pointer;\n",
              "    display: none;\n",
              "    fill: var(--fill-color);\n",
              "    height: 32px;\n",
              "    padding: 0;\n",
              "    width: 32px;\n",
              "  }\n",
              "\n",
              "  .colab-df-quickchart:hover {\n",
              "    background-color: var(--hover-bg-color);\n",
              "    box-shadow: 0 1px 2px rgba(60, 64, 67, 0.3), 0 1px 3px 1px rgba(60, 64, 67, 0.15);\n",
              "    fill: var(--button-hover-fill-color);\n",
              "  }\n",
              "\n",
              "  .colab-df-quickchart-complete:disabled,\n",
              "  .colab-df-quickchart-complete:disabled:hover {\n",
              "    background-color: var(--disabled-bg-color);\n",
              "    fill: var(--disabled-fill-color);\n",
              "    box-shadow: none;\n",
              "  }\n",
              "\n",
              "  .colab-df-spinner {\n",
              "    border: 2px solid var(--fill-color);\n",
              "    border-color: transparent;\n",
              "    border-bottom-color: var(--fill-color);\n",
              "    animation:\n",
              "      spin 1s steps(1) infinite;\n",
              "  }\n",
              "\n",
              "  @keyframes spin {\n",
              "    0% {\n",
              "      border-color: transparent;\n",
              "      border-bottom-color: var(--fill-color);\n",
              "      border-left-color: var(--fill-color);\n",
              "    }\n",
              "    20% {\n",
              "      border-color: transparent;\n",
              "      border-left-color: var(--fill-color);\n",
              "      border-top-color: var(--fill-color);\n",
              "    }\n",
              "    30% {\n",
              "      border-color: transparent;\n",
              "      border-left-color: var(--fill-color);\n",
              "      border-top-color: var(--fill-color);\n",
              "      border-right-color: var(--fill-color);\n",
              "    }\n",
              "    40% {\n",
              "      border-color: transparent;\n",
              "      border-right-color: var(--fill-color);\n",
              "      border-top-color: var(--fill-color);\n",
              "    }\n",
              "    60% {\n",
              "      border-color: transparent;\n",
              "      border-right-color: var(--fill-color);\n",
              "    }\n",
              "    80% {\n",
              "      border-color: transparent;\n",
              "      border-right-color: var(--fill-color);\n",
              "      border-bottom-color: var(--fill-color);\n",
              "    }\n",
              "    90% {\n",
              "      border-color: transparent;\n",
              "      border-bottom-color: var(--fill-color);\n",
              "    }\n",
              "  }\n",
              "</style>\n",
              "\n",
              "  <script>\n",
              "    async function quickchart(key) {\n",
              "      const quickchartButtonEl =\n",
              "        document.querySelector('#' + key + ' button');\n",
              "      quickchartButtonEl.disabled = true;  // To prevent multiple clicks.\n",
              "      quickchartButtonEl.classList.add('colab-df-spinner');\n",
              "      try {\n",
              "        const charts = await google.colab.kernel.invokeFunction(\n",
              "            'suggestCharts', [key], {});\n",
              "      } catch (error) {\n",
              "        console.error('Error during call to suggestCharts:', error);\n",
              "      }\n",
              "      quickchartButtonEl.classList.remove('colab-df-spinner');\n",
              "      quickchartButtonEl.classList.add('colab-df-quickchart-complete');\n",
              "    }\n",
              "    (() => {\n",
              "      let quickchartButtonEl =\n",
              "        document.querySelector('#df-2e8bcd4a-f648-4568-bc24-63e99987a0f0 button');\n",
              "      quickchartButtonEl.style.display =\n",
              "        google.colab.kernel.accessAllowed ? 'block' : 'none';\n",
              "    })();\n",
              "  </script>\n",
              "</div>\n",
              "\n",
              "    </div>\n",
              "  </div>\n"
            ],
            "application/vnd.google.colaboratory.intrinsic+json": {
              "type": "dataframe",
              "variable_name": "df"
            }
          },
          "metadata": {},
          "execution_count": 4
        }
      ]
    },
    {
      "cell_type": "code",
      "source": [
        "df.shape # Displays the total count of the Rows and Columns respectively."
      ],
      "metadata": {
        "colab": {
          "base_uri": "https://localhost:8080/"
        },
        "id": "mjkA0obyD8Oa",
        "outputId": "93a29849-31ae-41d1-ef61-4fee6ec23dfc"
      },
      "execution_count": 5,
      "outputs": [
        {
          "output_type": "execute_result",
          "data": {
            "text/plain": [
              "(130, 54677)"
            ]
          },
          "metadata": {},
          "execution_count": 5
        }
      ]
    },
    {
      "cell_type": "code",
      "source": [
        "df.isnull().sum() #Is used to display the dimensions of the DataFrame df. Giving you a quick overview of the size of your dataset."
      ],
      "metadata": {
        "colab": {
          "base_uri": "https://localhost:8080/",
          "height": 458
        },
        "id": "PARMz-J7FzBB",
        "outputId": "0d323f66-8a45-4c14-e618-88cd4a3c44a5"
      },
      "execution_count": 6,
      "outputs": [
        {
          "output_type": "execute_result",
          "data": {
            "text/plain": [
              "samples            0\n",
              "type               0\n",
              "1007_s_at          0\n",
              "1053_at            0\n",
              "117_at             0\n",
              "                  ..\n",
              "AFFX-ThrX-5_at     0\n",
              "AFFX-ThrX-M_at     0\n",
              "AFFX-TrpnX-3_at    0\n",
              "AFFX-TrpnX-5_at    0\n",
              "AFFX-TrpnX-M_at    0\n",
              "Length: 54677, dtype: int64"
            ],
            "text/html": [
              "<div>\n",
              "<style scoped>\n",
              "    .dataframe tbody tr th:only-of-type {\n",
              "        vertical-align: middle;\n",
              "    }\n",
              "\n",
              "    .dataframe tbody tr th {\n",
              "        vertical-align: top;\n",
              "    }\n",
              "\n",
              "    .dataframe thead th {\n",
              "        text-align: right;\n",
              "    }\n",
              "</style>\n",
              "<table border=\"1\" class=\"dataframe\">\n",
              "  <thead>\n",
              "    <tr style=\"text-align: right;\">\n",
              "      <th></th>\n",
              "      <th>0</th>\n",
              "    </tr>\n",
              "  </thead>\n",
              "  <tbody>\n",
              "    <tr>\n",
              "      <th>samples</th>\n",
              "      <td>0</td>\n",
              "    </tr>\n",
              "    <tr>\n",
              "      <th>type</th>\n",
              "      <td>0</td>\n",
              "    </tr>\n",
              "    <tr>\n",
              "      <th>1007_s_at</th>\n",
              "      <td>0</td>\n",
              "    </tr>\n",
              "    <tr>\n",
              "      <th>1053_at</th>\n",
              "      <td>0</td>\n",
              "    </tr>\n",
              "    <tr>\n",
              "      <th>117_at</th>\n",
              "      <td>0</td>\n",
              "    </tr>\n",
              "    <tr>\n",
              "      <th>...</th>\n",
              "      <td>...</td>\n",
              "    </tr>\n",
              "    <tr>\n",
              "      <th>AFFX-ThrX-5_at</th>\n",
              "      <td>0</td>\n",
              "    </tr>\n",
              "    <tr>\n",
              "      <th>AFFX-ThrX-M_at</th>\n",
              "      <td>0</td>\n",
              "    </tr>\n",
              "    <tr>\n",
              "      <th>AFFX-TrpnX-3_at</th>\n",
              "      <td>0</td>\n",
              "    </tr>\n",
              "    <tr>\n",
              "      <th>AFFX-TrpnX-5_at</th>\n",
              "      <td>0</td>\n",
              "    </tr>\n",
              "    <tr>\n",
              "      <th>AFFX-TrpnX-M_at</th>\n",
              "      <td>0</td>\n",
              "    </tr>\n",
              "  </tbody>\n",
              "</table>\n",
              "<p>54677 rows × 1 columns</p>\n",
              "</div><br><label><b>dtype:</b> int64</label>"
            ]
          },
          "metadata": {},
          "execution_count": 6
        }
      ]
    },
    {
      "cell_type": "markdown",
      "source": [
        "###There is no null or missing value in the dataset."
      ],
      "metadata": {
        "id": "iPacRVYVF-JP"
      }
    },
    {
      "cell_type": "code",
      "source": [
        "df.info() #Displays the total count of values present in the particular column along with the null count and data type."
      ],
      "metadata": {
        "colab": {
          "base_uri": "https://localhost:8080/"
        },
        "id": "Sf7W68f-F2kq",
        "outputId": "489b443f-d423-4516-bf6e-f12c79f79023"
      },
      "execution_count": 7,
      "outputs": [
        {
          "output_type": "stream",
          "name": "stdout",
          "text": [
            "<class 'pandas.core.frame.DataFrame'>\n",
            "RangeIndex: 130 entries, 0 to 129\n",
            "Columns: 54677 entries, samples to AFFX-TrpnX-M_at\n",
            "dtypes: float64(54675), int64(1), object(1)\n",
            "memory usage: 54.2+ MB\n"
          ]
        }
      ]
    },
    {
      "cell_type": "code",
      "source": [
        "df[df.duplicated()] #This code returns the count of duplicate rows in the DataFrame df."
      ],
      "metadata": {
        "colab": {
          "base_uri": "https://localhost:8080/",
          "height": 96
        },
        "id": "vLD0rLk1GCSC",
        "outputId": "39add66d-098d-45ac-be90-2e181282af50"
      },
      "execution_count": 8,
      "outputs": [
        {
          "output_type": "execute_result",
          "data": {
            "text/plain": [
              "Empty DataFrame\n",
              "Columns: [samples, type, 1007_s_at, 1053_at, 117_at, 121_at, 1255_g_at, 1294_at, 1316_at, 1320_at, 1405_i_at, 1431_at, 1438_at, 1487_at, 1494_f_at, 1552256_a_at, 1552257_a_at, 1552258_at, 1552261_at, 1552263_at, 1552264_a_at, 1552266_at, 1552269_at, 1552271_at, 1552272_a_at, 1552274_at, 1552275_s_at, 1552276_a_at, 1552277_a_at, 1552278_a_at, 1552279_a_at, 1552280_at, 1552281_at, 1552283_s_at, 1552286_at, 1552287_s_at, 1552288_at, 1552289_a_at, 1552291_at, 1552293_at, 1552295_a_at, 1552296_at, 1552299_at, 1552301_a_at, 1552302_at, 1552303_a_at, 1552304_at, 1552306_at, 1552307_a_at, 1552309_a_at, 1552310_at, 1552311_a_at, 1552312_a_at, 1552314_a_at, 1552315_at, 1552316_a_at, 1552318_at, 1552319_a_at, 1552320_a_at, 1552321_a_at, 1552322_at, 1552323_s_at, 1552325_at, 1552326_a_at, 1552327_at, 1552329_at, 1552330_at, 1552332_at, 1552334_at, 1552335_at, 1552337_s_at, 1552338_at, 1552340_at, 1552343_s_at, 1552344_s_at, 1552347_at, 1552348_at, 1552349_a_at, 1552354_at, 1552355_s_at, 1552359_at, 1552360_a_at, 1552362_a_at, 1552364_s_at, 1552365_at, 1552367_a_at, 1552368_at, 1552370_at, 1552372_at, 1552373_s_at, 1552375_at, 1552377_s_at, 1552378_s_at, 1552379_at, 1552381_at, 1552383_at, 1552384_a_at, 1552386_at, 1552388_at, 1552389_at, ...]\n",
              "Index: []\n",
              "\n",
              "[0 rows x 54677 columns]"
            ],
            "text/html": [
              "\n",
              "  <div id=\"df-acd5a8a7-48f0-48db-bd7d-8779fc555b22\" class=\"colab-df-container\">\n",
              "    <div>\n",
              "<style scoped>\n",
              "    .dataframe tbody tr th:only-of-type {\n",
              "        vertical-align: middle;\n",
              "    }\n",
              "\n",
              "    .dataframe tbody tr th {\n",
              "        vertical-align: top;\n",
              "    }\n",
              "\n",
              "    .dataframe thead th {\n",
              "        text-align: right;\n",
              "    }\n",
              "</style>\n",
              "<table border=\"1\" class=\"dataframe\">\n",
              "  <thead>\n",
              "    <tr style=\"text-align: right;\">\n",
              "      <th></th>\n",
              "      <th>samples</th>\n",
              "      <th>type</th>\n",
              "      <th>1007_s_at</th>\n",
              "      <th>1053_at</th>\n",
              "      <th>117_at</th>\n",
              "      <th>121_at</th>\n",
              "      <th>1255_g_at</th>\n",
              "      <th>1294_at</th>\n",
              "      <th>1316_at</th>\n",
              "      <th>1320_at</th>\n",
              "      <th>...</th>\n",
              "      <th>AFFX-r2-Ec-bioD-3_at</th>\n",
              "      <th>AFFX-r2-Ec-bioD-5_at</th>\n",
              "      <th>AFFX-r2-P1-cre-3_at</th>\n",
              "      <th>AFFX-r2-P1-cre-5_at</th>\n",
              "      <th>AFFX-ThrX-3_at</th>\n",
              "      <th>AFFX-ThrX-5_at</th>\n",
              "      <th>AFFX-ThrX-M_at</th>\n",
              "      <th>AFFX-TrpnX-3_at</th>\n",
              "      <th>AFFX-TrpnX-5_at</th>\n",
              "      <th>AFFX-TrpnX-M_at</th>\n",
              "    </tr>\n",
              "  </thead>\n",
              "  <tbody>\n",
              "  </tbody>\n",
              "</table>\n",
              "<p>0 rows × 54677 columns</p>\n",
              "</div>\n",
              "    <div class=\"colab-df-buttons\">\n",
              "\n",
              "  <div class=\"colab-df-container\">\n",
              "    <button class=\"colab-df-convert\" onclick=\"convertToInteractive('df-acd5a8a7-48f0-48db-bd7d-8779fc555b22')\"\n",
              "            title=\"Convert this dataframe to an interactive table.\"\n",
              "            style=\"display:none;\">\n",
              "\n",
              "  <svg xmlns=\"http://www.w3.org/2000/svg\" height=\"24px\" viewBox=\"0 -960 960 960\">\n",
              "    <path d=\"M120-120v-720h720v720H120Zm60-500h600v-160H180v160Zm220 220h160v-160H400v160Zm0 220h160v-160H400v160ZM180-400h160v-160H180v160Zm440 0h160v-160H620v160ZM180-180h160v-160H180v160Zm440 0h160v-160H620v160Z\"/>\n",
              "  </svg>\n",
              "    </button>\n",
              "\n",
              "  <style>\n",
              "    .colab-df-container {\n",
              "      display:flex;\n",
              "      gap: 12px;\n",
              "    }\n",
              "\n",
              "    .colab-df-convert {\n",
              "      background-color: #E8F0FE;\n",
              "      border: none;\n",
              "      border-radius: 50%;\n",
              "      cursor: pointer;\n",
              "      display: none;\n",
              "      fill: #1967D2;\n",
              "      height: 32px;\n",
              "      padding: 0 0 0 0;\n",
              "      width: 32px;\n",
              "    }\n",
              "\n",
              "    .colab-df-convert:hover {\n",
              "      background-color: #E2EBFA;\n",
              "      box-shadow: 0px 1px 2px rgba(60, 64, 67, 0.3), 0px 1px 3px 1px rgba(60, 64, 67, 0.15);\n",
              "      fill: #174EA6;\n",
              "    }\n",
              "\n",
              "    .colab-df-buttons div {\n",
              "      margin-bottom: 4px;\n",
              "    }\n",
              "\n",
              "    [theme=dark] .colab-df-convert {\n",
              "      background-color: #3B4455;\n",
              "      fill: #D2E3FC;\n",
              "    }\n",
              "\n",
              "    [theme=dark] .colab-df-convert:hover {\n",
              "      background-color: #434B5C;\n",
              "      box-shadow: 0px 1px 3px 1px rgba(0, 0, 0, 0.15);\n",
              "      filter: drop-shadow(0px 1px 2px rgba(0, 0, 0, 0.3));\n",
              "      fill: #FFFFFF;\n",
              "    }\n",
              "  </style>\n",
              "\n",
              "    <script>\n",
              "      const buttonEl =\n",
              "        document.querySelector('#df-acd5a8a7-48f0-48db-bd7d-8779fc555b22 button.colab-df-convert');\n",
              "      buttonEl.style.display =\n",
              "        google.colab.kernel.accessAllowed ? 'block' : 'none';\n",
              "\n",
              "      async function convertToInteractive(key) {\n",
              "        const element = document.querySelector('#df-acd5a8a7-48f0-48db-bd7d-8779fc555b22');\n",
              "        const dataTable =\n",
              "          await google.colab.kernel.invokeFunction('convertToInteractive',\n",
              "                                                    [key], {});\n",
              "        if (!dataTable) return;\n",
              "\n",
              "        const docLinkHtml = 'Like what you see? Visit the ' +\n",
              "          '<a target=\"_blank\" href=https://colab.research.google.com/notebooks/data_table.ipynb>data table notebook</a>'\n",
              "          + ' to learn more about interactive tables.';\n",
              "        element.innerHTML = '';\n",
              "        dataTable['output_type'] = 'display_data';\n",
              "        await google.colab.output.renderOutput(dataTable, element);\n",
              "        const docLink = document.createElement('div');\n",
              "        docLink.innerHTML = docLinkHtml;\n",
              "        element.appendChild(docLink);\n",
              "      }\n",
              "    </script>\n",
              "  </div>\n",
              "\n",
              "\n",
              "    </div>\n",
              "  </div>\n"
            ],
            "application/vnd.google.colaboratory.intrinsic+json": {
              "type": "dataframe"
            }
          },
          "metadata": {},
          "execution_count": 8
        }
      ]
    },
    {
      "cell_type": "code",
      "source": [
        "# Check the data types of each column\n",
        "print(df.dtypes)"
      ],
      "metadata": {
        "colab": {
          "base_uri": "https://localhost:8080/"
        },
        "id": "p6mn9KVmGgUm",
        "outputId": "d720434c-c706-4dce-a29a-135595c5eb4b"
      },
      "execution_count": 9,
      "outputs": [
        {
          "output_type": "stream",
          "name": "stdout",
          "text": [
            "samples              int64\n",
            "type                object\n",
            "1007_s_at          float64\n",
            "1053_at            float64\n",
            "117_at             float64\n",
            "                    ...   \n",
            "AFFX-ThrX-5_at     float64\n",
            "AFFX-ThrX-M_at     float64\n",
            "AFFX-TrpnX-3_at    float64\n",
            "AFFX-TrpnX-5_at    float64\n",
            "AFFX-TrpnX-M_at    float64\n",
            "Length: 54677, dtype: object\n"
          ]
        }
      ]
    },
    {
      "cell_type": "code",
      "source": [
        "from sklearn.preprocessing import LabelEncoder #This class is used to convert categorical data (like strings) into numerical labels.\n",
        "\n",
        "# Apply Label Encoding to each categorical column\n",
        "for col in df.select_dtypes(include=[object]).columns: #Iterates through each column in the DataFrame df that contains categorical data (identified by the object data type).\n",
        "    le = LabelEncoder() #Creates an instance of the LabelEncoder for each categorical column.\n",
        "    df[col] = le.fit_transform(df[col])"
      ],
      "metadata": {
        "id": "BvN7yKmkGnUn"
      },
      "execution_count": 10,
      "outputs": []
    },
    {
      "cell_type": "markdown",
      "source": [
        "###le.fit_transform(): Fits the encoder to the unique categories in the column (fit) and then transforms the categorical values into numerical labels (transform). The transformed numerical labels replace the original categorical values in the DataFrame.\n",
        "\n",
        "###Purpose:\n",
        "\n",
        "###Many machine learning algorithms require numerical input data. Label Encoding is a simple technique to convert categorical features into a numerical format that these algorithms can understand. It assigns a unique numerical label (starting from 0) to each category within a feature."
      ],
      "metadata": {
        "id": "tsCCByTdGx9S"
      }
    },
    {
      "cell_type": "code",
      "source": [
        "from sklearn.preprocessing import StandardScaler  #Data Scaling\n",
        "from sklearn.decomposition import PCA #Dimensionality Reduction\n",
        "from sklearn.manifold import TSNE #Visualization\n",
        "import matplotlib.pyplot as plt #Plotting"
      ],
      "metadata": {
        "id": "jMmfaB1RGsXg"
      },
      "execution_count": 11,
      "outputs": []
    },
    {
      "cell_type": "markdown",
      "source": [
        "##Preprocessing"
      ],
      "metadata": {
        "id": "ntDP-ZtQHBPL"
      }
    },
    {
      "cell_type": "code",
      "source": [
        "df_numeric = df.select_dtypes(include=[float, int])\n",
        "#This line selects only the columns in your DataFrame df that contain numerical data (either floating-point numbers or integers).\n",
        "#This creates a new DataFrame df_numeric with just the numerical features.\n",
        "\n",
        "scaler = StandardScaler()\n",
        "#This initializes a StandardScaler object from scikit-learn. This scaler standardizes features by removing the mean and scaling to unit variance.\n",
        "\n",
        "X_scaled = scaler.fit_transform(df_numeric)\n",
        "#This line does two things:\n",
        "#fit: Calculates the mean and standard deviation for each numerical feature in df_numeric.\n",
        "#transform: Applies the standardization by subtracting the mean and dividing by the standard deviation for each feature, resulting in a scaled dataset X_scaled."
      ],
      "metadata": {
        "id": "gU95k6VqG8zT"
      },
      "execution_count": 12,
      "outputs": []
    },
    {
      "cell_type": "markdown",
      "source": [
        "##Purpose and Influence:\n",
        "###Importance of Scaling: Many machine learning algorithms (especially those based on distance calculations like k-NN, SVM, or those using gradient descent) perform better when numerical features are on a similar scale.\n",
        "###Influence on Dataset: Feature scaling prevents features with larger ranges from dominating the learning process. It ensures that all features contribute equally to the model training, leading to potentially better model performance and faster convergence."
      ],
      "metadata": {
        "id": "RHc85aAAHHOb"
      }
    },
    {
      "cell_type": "code",
      "source": [
        "pca = PCA(n_components=50)\n",
        "#Initializes a PCA object from scikit-learn, setting the number of components (dimensions) to keep after reduction to 50.\n",
        "X_pca = pca.fit_transform(X_scaled)\n",
        "#fit: Learns the principal components from the scaled data X_scaled.\n",
        "#transform: Projects the scaled data onto the first 50 principal components, reducing the dimensionality of the data to 50 features."
      ],
      "metadata": {
        "id": "lh_ma89BHExC"
      },
      "execution_count": 13,
      "outputs": []
    },
    {
      "cell_type": "markdown",
      "source": [
        "##Purpose and Influence:\n",
        "###Purpose of PCA: PCA is used to reduce the number of features in a dataset while retaining as much of the original variance as possible. This can help with:\n",
        "* Speeding up model training.\n",
        "* Reducing noise and overfitting.\n",
        "* Visualizing high-dimensional data in lower dimensions.\n",
        "\n",
        "###Influence on Dataset: PCA transforms the original features into a new set of uncorrelated features (principal components) that capture the most important patterns in the data. The dataset is now represented in a lower-dimensional space, which can be easier to analyze and visualize.\n",
        "###In the t-SNE analysis, applying PCA beforehand can potentially improve the results by:\n",
        "\n",
        "* Removing noise: PCA can filter out less important variations in the data.\n",
        "* Speeding up t-SNE: t-SNE is computationally expensive for high-dimensional data, so reducing dimensionality with PCA first can make it more efficient"
      ],
      "metadata": {
        "id": "oDvGCRItHn9V"
      }
    },
    {
      "cell_type": "code",
      "source": [
        "# t-SNE Modeling\n",
        "tsne = TSNE(n_components=2, perplexity=30, n_iter=1000, random_state=42)  #Initializes a t-SNE object:\n",
        "X_tsne = tsne.fit_transform(X_pca)"
      ],
      "metadata": {
        "id": "X_dX9GYUHbdE"
      },
      "execution_count": 14,
      "outputs": []
    },
    {
      "cell_type": "markdown",
      "source": [
        "###1. tsne = TSNE(n_components=2, perplexity=30, n_iter=1000, random_state=42): Initializes a t-SNE object:\n",
        "* n_components=2: Specifies that the data should be reduced to 2 dimensions for visualization.\n",
        "* perplexity=30: Controls the local neighborhood size considered when computing similarities between data points.\n",
        "* n_iter=1000: Sets the number of iterations for the optimization process.\n",
        "* random_state=42: Ensures reproducibility of the results.\n",
        "\n",
        "###2. X_tsne = tsne.fit_transform(X_pca):\n",
        "* fit_transform: Applies t-SNE to the data X_pca (which was likely obtained after PCA), reducing it to 2 dimensions and storing the result in X_tsne.\n",
        "\n",
        "###Purpose and Influence:\n",
        "\n",
        "* Purpose of t-SNE: t-SNE is a non-linear dimensionality reduction technique primarily used for visualization of high-dimensional data. It aims to preserve the local structure of the data, meaning that points close to each other in the original high-dimensional space will also be close in the low-dimensional representation.\n",
        "\n",
        "* Influence on Dataset: t-SNE transforms the data into a 2D representation where you can visually explore clusters and patterns. It does not directly change the original dataset but provides a new way to visualize and understand the relationships between data points.\n",
        "\n",
        "###In the analysis, t-SNE helps you visualize how the breast cancer gene expression samples cluster in a 2D space, potentially revealing distinct groups or patterns related to cancer vs. normal samples."
      ],
      "metadata": {
        "id": "r9fnb5ZJIO6v"
      }
    },
    {
      "cell_type": "code",
      "source": [
        "# Visualization\n",
        "plt.figure(figsize=(10, 7))\n",
        "plt.scatter(X_tsne[:, 0], X_tsne[:, 1], s=100, alpha=0.7)\n",
        "plt.title(\"t-SNE Visualization of Brain Cancer Gene Expression Data\")\n",
        "plt.xlabel(\"t-SNE Component 1\")\n",
        "plt.ylabel(\"t-SNE Component 2\")\n",
        "plt.show()"
      ],
      "metadata": {
        "colab": {
          "base_uri": "https://localhost:8080/",
          "height": 641
        },
        "id": "0bKp73N9IJbq",
        "outputId": "d39d1cd9-00db-49bd-ef1a-14bd9e64e44b"
      },
      "execution_count": 16,
      "outputs": [
        {
          "output_type": "display_data",
          "data": {
            "text/plain": [
              "<Figure size 1000x700 with 1 Axes>"
            ],
            "image/png": "[encoded data removed]"
          },
          "metadata": {}
        }
      ]
    },
    {
      "cell_type": "markdown",
      "source": [
        "###The t-SNE visualization shows how the high-dimensional gene expression data for brain cancer samples has been reduced into two components, making it easier to identify patterns or clusters.\n",
        "\n",
        "##Interpretation of the Visualization:\n",
        "###1. Clusters Formation:\n",
        "\n",
        "* The points (representing samples) are grouped into distinct clusters in the 2D space.\n",
        "* The presence of clear clusters suggests that there are meaningful differences in gene expression between certain groups of samples, potentially corresponding to different subtypes of brain cancer or differences between healthy and diseased samples.\n",
        "\n",
        "###2. Spatial Separation:\n",
        "\n",
        "* The separation between clusters indicates that the t-SNE algorithm has successfully identified underlying structure within the dataset.\n",
        "* Each cluster likely represents a group of samples with similar gene expression profiles, which could correspond to specific biological states or conditions.\n",
        "\n",
        "###3. Densely Populated Areas:\n",
        "\n",
        "* The areas with densely packed points show where samples are more similar to each other, implying a higher degree of similarity in gene expression patterns within those regions.\n",
        "\n",
        "##Summary of the t-SNE Model:\n",
        "* Dimensionality Reduction: t-SNE is a non-linear technique that is particularly useful for visualizing high-dimensional data. It projects complex data into a low-dimensional space (here, 2D), where the distances between points reflect their similarities in the original high-dimensional space.\n",
        "\n",
        "* Visual Insights: The visualization reveals distinct clusters, offering insights into the gene expression profiles of brain cancer samples. The pattern observed can be used for further biological interpretation or as a foundation for classification tasks.\n",
        "\n",
        "###In conclusion, the t-SNE plot demonstrates the utility of dimensionality reduction in uncovering hidden structures in gene expression data, facilitating a deeper understanding of the biological differences between samples in brain cancer research."
      ],
      "metadata": {
        "id": "bJqouWRCNCRe"
      }
    }
  ]
}